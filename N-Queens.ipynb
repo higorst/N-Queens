{
 "cells": [
  {
   "cell_type": "markdown",
   "metadata": {
    "colab_type": "text",
    "id": "w-bNxVuZk3pk"
   },
   "source": [
    "#**O Problema das N-Rainhas**\n",
    "\n",
    "No xadrez, uma rainha pode atacar horizontalmente, verticalmente e diagonalmente. O problema das N rainhas pergunta:\n",
    "\n",
    "*Como N rainhas podem ser colocadas em um tabuleiro de xadrez NxN para que duas não se ataquem?*\n",
    "\n",
    "Abaixo temos uma solução possível para o problema das N rainhas para N = 4\n",
    "\n",
    "![alt text](https://developers.google.com/optimization/images/queens/sol_4x4_b.png)\n",
    "\n",
    "Observe que este não é um problema de otimização, queremos encontrar uma solução possível e não uma solução ideal. \n",
    "\n",
    "Para encontrar a solução existem deverças técnicas, dentre elas iremos abordar a **Força Bruta** e a **Backtracking**, comparando o desempenho de cada um deles.\n",
    "\n",
    "##**Força bruta**\n",
    "\n",
    "A força bruta é uma técnica de solução de problemas trivial, porém muito geral que consiste em enumerar todos os possíveis candidatos a solução e checar cada candidato para saber se ele satisfaz o enunciado do problema.\n",
    "\n",
    "Por exemplo, um algoritmo para encontrar os dicisores de um número catural *n* é enumerar todo os inteiros de 1 a *n*, e verificar para cada um se ele dividido por *n* resulta em resto 0.\n",
    "\n",
    "Esse algoritmo possui um implementação muito simples, e sempre encontrará uma solução se ela existir. Entretanto, seu custo computacional é proporcional ao número de candidatos a solução, que, em problemas reais, tende a crescer exponencialmente. Portanto, a força bruta é tipicamente usada em problemas cujo o tamanho é limitado, ou que há uma heurística usada para reduzir o conjunto de candidatos para um espaço aceitável. Também pode ser usado quando a simplicidade da implementalção é mais imporntante que a velocidade de execução, como nos casos de aplicação críticas em que erros de algoritmo possuem sérias consequências.\n",
    "\n",
    "##**Backtracking**\n",
    "\n",
    "É um algoritmo que representa um refinamento na busca por força bruta, onde multiplas soluções pode ser elimidades sem serem explicitamente examinadas.\n",
    "\n",
    "*   De maneira incremental, busca por candidatos à soluções e descarta cada candidato parcial que não pode resultar em um solução válida.\n",
    "*   Quando sua busca encontra uma extremidade da estrutura de dados, como um tipo de nó terminal de um árvore, o algoritmo realiza um retrocesso tipicamente implementado através de recursão.\n",
    "\n",
    "\n",
    "![alt text](https://i.stack.imgur.com/4OXJJ.png)\n",
    "\n",
    "\n",
    "#**Implementação**\n",
    "\n",
    "Importação de pacotes.\n",
    "\n",
    "\n",
    "\n"
   ]
  },
  {
   "cell_type": "code",
   "execution_count": null,
   "metadata": {
    "colab": {},
    "colab_type": "code",
    "id": "IevbKyNGxGnt"
   },
   "outputs": [],
   "source": [
    "import time\n",
    "import copy\n",
    "import math\n",
    "import matplotlib.pyplot as plt\n",
    "%matplotlib inline\n",
    "import numpy as np\n",
    "import sys\n",
    "\n"
   ]
  },
  {
   "cell_type": "markdown",
   "metadata": {
    "colab_type": "text",
    "id": "KWh2mjkBDyho"
   },
   "source": [
    "Funções para a plotagem dos gráficos\n",
    "\n"
   ]
  },
  {
   "cell_type": "code",
   "execution_count": null,
   "metadata": {
    "colab": {},
    "colab_type": "code",
    "id": "LHg5i2uPDx3S"
   },
   "outputs": [],
   "source": [
    "def function_plotscatter (x,vector,average,title):\n",
    "  plotar_cal = [average for i in range(10)]\n",
    "  plt.figure(figsize=(15,5))\n",
    "  plt.scatter(x,vector)\n",
    "  plt.plot(x,plotar_cal,  color = 'r')\n",
    "  plt.legend(['Média','tempo de execução'])\n",
    "  plt.axis([0,9,0,1.5*average])\n",
    "  plt.title(title)\n",
    "  plt.show()\n",
    "  return\n"
   ]
  },
  {
   "cell_type": "code",
   "execution_count": null,
   "metadata": {
    "colab": {},
    "colab_type": "code",
    "id": "dwGA3TtQEgDA"
   },
   "outputs": [],
   "source": [
    "def function_plotline(time_Bf, time_Bt):\n",
    "  x = [4,5,6,7]\n",
    "  plt.figure(figsize = (15,5))\n",
    "  plt.plot(x,time_Bf,color = 'r')\n",
    "  plt.plot(x,time_Bt, color = 'yellow')\n",
    "  plt.legend(['Tempo médio Força bruta','Tempo médio Backtraking'])\n",
    "  plt.show\n",
    "  return"
   ]
  },
  {
   "cell_type": "markdown",
   "metadata": {
    "colab_type": "text",
    "id": "MpgkS_0LExpT"
   },
   "source": [
    "Vetores para armazenar informações de tempo de execução\n"
   ]
  },
  {
   "cell_type": "code",
   "execution_count": null,
   "metadata": {
    "colab": {},
    "colab_type": "code",
    "id": "-zavtKBMExIp"
   },
   "outputs": [],
   "source": [
    "time_Bf = [0]*4\n",
    "time_Bt = [0]*4"
   ]
  },
  {
   "cell_type": "code",
   "execution_count": null,
   "metadata": {
    "colab": {},
    "colab_type": "code",
    "id": "yGUJVQhJH5Be"
   },
   "outputs": [],
   "source": [
    "def function_average(results):\n",
    "  acumulator = 0\n",
    "  for i in range(10):\n",
    "    acumulator = acumulator + results[i]\n",
    "  return(acumulator/10)"
   ]
  },
  {
   "cell_type": "markdown",
   "metadata": {
    "colab_type": "text",
    "id": "wt3XS4Y1wNtq"
   },
   "source": [
    "Implementação em Backtracking"
   ]
  },
  {
   "cell_type": "code",
   "execution_count": null,
   "metadata": {
    "colab": {},
    "colab_type": "code",
    "id": "-8LiYDGTj0hL"
   },
   "outputs": [],
   "source": [
    "def isSafe(board, row, col,n): \n",
    "\n",
    "\tfor i in range(col): \n",
    "\t\tif board[row][i] == 1: \n",
    "\t\t\treturn False\n",
    " \n",
    "\tfor i, j in zip(range(row, -1, -1), range(col, -1, -1)): \n",
    "\t\tif board[i][j] == 1: \n",
    "\t\t\treturn False\n",
    "\n",
    "\tfor i, j in zip(range(row, n, 1), range(col, -1, -1)): \n",
    "\t\tif board[i][j] == 1: \n",
    "\t\t\treturn False\n",
    "\n",
    "\treturn True\n",
    "\n",
    "def solveNQUtil(board, col,n): \n",
    "\tif col >= n: \n",
    "\t\treturn True\n",
    "\n",
    "\tfor i in range(n): \n",
    "\n",
    "\t\tif isSafe(board, i, col,n): \n",
    "\t\t\tboard[i][col] = 1\n",
    "\n",
    "\t\t\tif solveNQUtil(board, col + 1,n) == True: \n",
    "\t\t\t\treturn True\n",
    "\n",
    "\t\t\tboard[i][col] = 0\n",
    "\n",
    "\treturn False\n",
    "\n",
    "def solveNQ(n): \n",
    "\tboard = []\t\n",
    "\tfor i in range(n):\n",
    "\t\ti_board = []\n",
    "\t\tfor j in range(n):\n",
    "\t\t\ti_board.append(0)\n",
    "\t\tboard.append(i_board)\n",
    "\n",
    "\tif solveNQUtil(board, 0,n) == False: \n",
    "\t\tprint(\"Solution does not exist\")\n",
    "\t\treturn False\n",
    "\t\n",
    "\treturn True\n",
    "\n",
    "def Solution_BT(dim):\n",
    "\tn = dim\n",
    "\tinicio = time.time()\n",
    "\tsolveNQ(n) \n",
    "\treturn(time.time() - inicio)\n",
    " \n"
   ]
  },
  {
   "cell_type": "markdown",
   "metadata": {
    "colab_type": "text",
    "id": "98UZ8dfjwJlb"
   },
   "source": [
    "Implementação em Força Bruta"
   ]
  },
  {
   "cell_type": "code",
   "execution_count": null,
   "metadata": {
    "colab": {},
    "colab_type": "code",
    "id": "y_oOLoIAvibK"
   },
   "outputs": [],
   "source": [
    "def is_solution(coordinates, dimensions):\n",
    "  for x in range(dimensions):\n",
    "    pos = coordinates[x]\n",
    "    for next_col in range(x + 1, dimensions):\n",
    "      next_pos = coordinates[next_col]\n",
    "          \n",
    "      if pos == next_pos:\n",
    "        return None\n",
    "      \n",
    "      if (pos + next_col - x) == next_pos:\n",
    "        return None\n",
    "      if (pos - next_col + x) == next_pos:\n",
    "        return None\n",
    "  return coordinates\n",
    "\n",
    "def Solution_BF(dim):\n",
    "  solutions = []\n",
    "  inicio = time.time()\n",
    "  this_permutation = []\n",
    "  for i in range(dim):\n",
    "    this_permutation.append(0)\n",
    "\n",
    "  possible_permutations = dim\n",
    "  for i in range(dim):\n",
    "    possible_permutations *= dim\n",
    "\n",
    "  for i in range(possible_permutations):\n",
    "    rem = i\n",
    "    for m in range(dim): \n",
    "      this_permutation[m] = rem % dim\n",
    "      rem //= dim\n",
    "      result = is_solution(copy.copy(this_permutation), dim)\n",
    "      if result:\n",
    "        if result not in solutions:\n",
    "            solutions.append(result)\n",
    "\n",
    "  return (time.time()-inicio)"
   ]
  },
  {
   "cell_type": "markdown",
   "metadata": {
    "colab_type": "text",
    "id": "akRY_QLaGDfE"
   },
   "source": [
    "Função para replicar o experimento 30 vezes\n"
   ]
  },
  {
   "cell_type": "code",
   "execution_count": null,
   "metadata": {
    "colab": {},
    "colab_type": "code",
    "id": "78sfnB9NBbq7"
   },
   "outputs": [],
   "source": [
    "def experiment(n):\n",
    "  results_Bt = [0]*10\n",
    "  results_Bf = [0]*10\n",
    "  vector = [0]*10\n",
    "  for i in range(10):\n",
    "    results_Bf[i] = Solution_BF(n)\n",
    "    results_Bt[i] = Solution_BT(n)\n",
    "    vector[i]=i\n",
    "  average_Bf = function_average(results_Bf)\n",
    "  average_Bt = function_average(results_Bt)\n",
    "  function_plotscatter(vector,results_Bt,average_Bt,\"Backtracking solution\")\n",
    "  function_plotscatter(vector,results_Bf,average_Bf,\"Brute force solution\")\n",
    "  return(average_Bf,average_Bt)"
   ]
  },
  {
   "cell_type": "markdown",
   "metadata": {
    "colab_type": "text",
    "id": "evoYaAnMFMx-"
   },
   "source": [
    "###**Fase experimental**\n",
    "\n",
    "Para proseguirmos com a análise de desempenho dos algoritmos, faremos este experimento 10 vezes para os seguintes valores de ***N***, 4, 5, 6 e 7 para auxiliar na análise dos resultados dois arrays serão utilizados para armazenar os valores médios para cada um dos valores de ***N***."
   ]
  },
  {
   "cell_type": "markdown",
   "metadata": {
    "colab_type": "text",
    "id": "mChmprSQS3gb"
   },
   "source": [
    "***N*** = 4"
   ]
  },
  {
   "cell_type": "code",
   "execution_count": null,
   "metadata": {
    "colab": {
     "base_uri": "https://localhost:8080/",
     "height": 655
    },
    "colab_type": "code",
    "id": "i0D1czwaM8-Y",
    "outputId": "c93b74ca-e19e-47c4-e32d-27724a8b5510"
   },
   "outputs": [],
   "source": [
    "x,y = experiment(4)\n",
    "time_Bf[0] = x\n",
    "time_Bt[0] = y"
   ]
  },
  {
   "cell_type": "markdown",
   "metadata": {
    "colab_type": "text",
    "id": "lyIGDTP8S4t4"
   },
   "source": [
    "***N*** = 5"
   ]
  },
  {
   "cell_type": "code",
   "execution_count": null,
   "metadata": {
    "colab": {
     "base_uri": "https://localhost:8080/",
     "height": 655
    },
    "colab_type": "code",
    "id": "kyEE4R0ESVHe",
    "outputId": "05192f45-47c2-4266-c46c-2eafa0756166"
   },
   "outputs": [],
   "source": [
    "x,y = experiment(5)\n",
    "time_Bf[1] = x\n",
    "time_Bt[1] = y"
   ]
  },
  {
   "cell_type": "markdown",
   "metadata": {
    "colab_type": "text",
    "id": "96SuZMTqS_kq"
   },
   "source": [
    "***N*** = 6"
   ]
  },
  {
   "cell_type": "code",
   "execution_count": null,
   "metadata": {
    "colab": {
     "base_uri": "https://localhost:8080/",
     "height": 655
    },
    "colab_type": "code",
    "id": "IaEkwwjISY5R",
    "outputId": "88773aa4-786b-4ba5-e28f-fb2e524c06ea"
   },
   "outputs": [],
   "source": [
    "x,y = experiment(6)\n",
    "time_Bf[2] = x\n",
    "time_Bt[2] = y"
   ]
  },
  {
   "cell_type": "markdown",
   "metadata": {
    "colab_type": "text",
    "id": "hhPjvOz7TAgD"
   },
   "source": [
    "***N*** = 7"
   ]
  },
  {
   "cell_type": "code",
   "execution_count": null,
   "metadata": {
    "colab": {},
    "colab_type": "code",
    "id": "fZO06gd_SZKh"
   },
   "outputs": [],
   "source": [
    "x,y = experiment(7)\n",
    "time_Bf[3] = x\n",
    "time_Bt[3] = y"
   ]
  },
  {
   "cell_type": "markdown",
   "metadata": {
    "colab_type": "text",
    "id": "nfIBhS3zTMFz"
   },
   "source": [
    "## **Análise dos resultados**"
   ]
  },
  {
   "cell_type": "code",
   "execution_count": null,
   "metadata": {
    "colab": {},
    "colab_type": "code",
    "id": "Q3uxUoF-0O9O"
   },
   "outputs": [],
   "source": [
    "function_plotline(time_Bf,time_Bt)"
   ]
  }
 ],
 "metadata": {
  "accelerator": "GPU",
  "colab": {
   "collapsed_sections": [],
   "name": "N_Queens.ipynb",
   "provenance": []
  },
  "kernelspec": {
   "display_name": "Python 3",
   "language": "python",
   "name": "python3"
  },
  "language_info": {
   "codemirror_mode": {
    "name": "ipython",
    "version": 3
   },
   "file_extension": ".py",
   "mimetype": "text/x-python",
   "name": "python",
   "nbconvert_exporter": "python",
   "pygments_lexer": "ipython3",
   "version": "3.7.4"
  }
 },
 "nbformat": 4,
 "nbformat_minor": 1
}
